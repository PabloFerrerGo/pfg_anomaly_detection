{
 "cells": [
  {
   "attachments": {},
   "cell_type": "markdown",
   "id": "b67b66de",
   "metadata": {},
   "source": [
    "Importamos las librerías necesarias"
   ]
  },
  {
   "cell_type": "code",
   "execution_count": null,
   "id": "bbcb6c28",
   "metadata": {},
   "outputs": [],
   "source": [
    "import thingspeak, time, random\n",
    "import cv2, json, re, ast\n",
    "\n",
    "import numpy as np\n",
    "import paho.mqtt.client as mqtt\n",
    "import matplotlib.pyplot as plt\n",
    "\n",
    "from PIL import Image as PIL_Image\n",
    "from datetime import datetime\n",
    "from time import time, sleep\n",
    "from PIL import Image\n",
    "from pynq.overlays.base import BaseOverlay\n",
    "from pynq_peripherals import ArduinoSEEEDGroveAdapter"
   ]
  },
  {
   "attachments": {},
   "cell_type": "markdown",
   "id": "a5f8abd9",
   "metadata": {},
   "source": [
    "Definimos la corresponcencia hardware-software"
   ]
  },
  {
   "cell_type": "code",
   "execution_count": null,
   "id": "870eaafa",
   "metadata": {},
   "outputs": [],
   "source": [
    "base = BaseOverlay(\"base.bit\")\n",
    "\n",
    "adapter = ArduinoSEEEDGroveAdapter(base.ARDUINO,\n",
    "                                  D2='grove_led_stick',\n",
    "                                  D4='grove_buzzer',\n",
    "                                  D6='grove_usranger')\n",
    "\n",
    "led_stick = adapter.D2\n",
    "buzzer = adapter.D4\n",
    "usranger = adapter.D6"
   ]
  },
  {
   "attachments": {},
   "cell_type": "markdown",
   "id": "1f22071d",
   "metadata": {},
   "source": [
    "Estas funciones reproducen un sonido al iniciar y finalizar el proceso de detección de anomalías en el dispositivo PYNQ"
   ]
  },
  {
   "cell_type": "code",
   "execution_count": null,
   "id": "52f7e4d2",
   "metadata": {},
   "outputs": [],
   "source": [
    "def inicio_programa():\n",
    "    \"\"\"\n",
    "    Toca la melodia de inicio de programa\n",
    "    \"\"\"\n",
    "    buzzer.play_note(\"b\", 100*2)\n",
    "    sleep(0.025)\n",
    "    buzzer.play_note(\"a\", 100*2)\n",
    "    sleep(0.025)\n",
    "    buzzer.play_note(\"g\", 200*2)\n",
    "    sleep(0.3)\n",
    "    buzzer.play_note(\"b\", 100*2)\n",
    "    sleep(0.025)\n",
    "    buzzer.play_note(\"g\", 150*2)"
   ]
  },
  {
   "cell_type": "code",
   "execution_count": null,
   "id": "56921f75",
   "metadata": {},
   "outputs": [],
   "source": [
    "def fin_programa():\n",
    "    \"\"\"\n",
    "    Toca la melodia de fin del programa\n",
    "    \"\"\"\n",
    "    buzzer.play_note(\"f\", 100*2)\n",
    "    sleep(0.025)\n",
    "    buzzer.play_note(\"g\", 100*2)\n",
    "    sleep(0.025)\n",
    "    buzzer.play_note(\"a\", 250*2)\n",
    "    sleep(0.025)\n",
    "    buzzer.play_note(\"d\", 100*2)\n",
    "    sleep(0.025)\n",
    "    buzzer.play_note(\"d\", 150*2)\n",
    "    sleep(0.2)\n",
    "    buzzer.play_note(\"e\", 100*2)\n",
    "    sleep(0.025)\n",
    "    buzzer.play_note(\"f\", 100*2)\n",
    "    sleep(0.025)\n",
    "    buzzer.play_note(\"g\", 250*2)\n",
    "    sleep(0.025)\n",
    "    buzzer.play_note(\"c\", 100*2)\n",
    "    sleep(0.025)\n",
    "    buzzer.play_note(\"c\", 150*2)"
   ]
  },
  {
   "attachments": {},
   "cell_type": "markdown",
   "id": "b9e60c3e",
   "metadata": {},
   "source": [
    "La función `webcam` toma una foto y la guarda según el directorio deseado añadiendole también un timestamp para permitir la trazabilidad de la foto por último redimensiona la imagen ya que `Anomalib 0.3.7` requiere que la imagen tenga dimensiones de misma anchura y altura."
   ]
  },
  {
   "cell_type": "code",
   "execution_count": null,
   "id": "294afe8c",
   "metadata": {},
   "outputs": [],
   "source": [
    "def webcam():\n",
    "    timestamp = re.sub(r'[- :]', '_', str(datetime.now())[:19])\n",
    "    orig_img_path = f'./data/webcam_photos/new_photos/webcam_{timestamp}.jpg'\n",
    "    !fswebcam  --no-banner --save {orig_img_path} -d /dev/video0 2> /dev/null\n",
    "    img = np.array(Image.open(orig_img_path)) # (288, 352, 3)\n",
    "    # img = Image.open(orig_img_path) # (288, 352, 3)\n",
    "    img_new = cv2.resize(img, (288,288))\n",
    "    return img_new, timestamp"
   ]
  },
  {
   "attachments": {},
   "cell_type": "markdown",
   "id": "06b940b8",
   "metadata": {},
   "source": [
    "Con esta función guardamos la foto en función de si el modelo la ha considerado o no una anomalía"
   ]
  },
  {
   "cell_type": "code",
   "execution_count": null,
   "id": "3f29da3c",
   "metadata": {},
   "outputs": [],
   "source": [
    "def save_photo(anomaly, photo, timestamp):\n",
    "    if anomaly:\n",
    "        cv2.imwrite(f'./data/webcam_photos/new_abnormal/webcam_{timestamp}.png', photo)\n",
    "    else:\n",
    "        cv2.imwrite(f'./data/webcam_photos/new_normal/webcam_{timestamp}.png', photo)"
   ]
  },
  {
   "attachments": {},
   "cell_type": "markdown",
   "id": "fe64d5bf",
   "metadata": {},
   "source": [
    "A continuación definimos como serán las alertas dependiendo de si la imagen es anómala o no."
   ]
  },
  {
   "cell_type": "code",
   "execution_count": null,
   "id": "41fbfef3",
   "metadata": {},
   "outputs": [],
   "source": [
    "def leds_alert(anomaly):\n",
    "    if not anomaly:\n",
    "        for i in range(10):\n",
    "            led_stick.set_pixel(i, 0x00FF00)\n",
    "        led_stick.show()\n",
    "    else:\n",
    "        for i in range(10):\n",
    "            led_stick.set_pixel(i, 0xFF0000)\n",
    "        led_stick.show()\n",
    "    return None\n",
    "\n",
    "def buzz_alert(anomaly):\n",
    "    if not anomaly:\n",
    "        buzzer.play_tone(1000, 100)\n",
    "        buzzer.play_tone(2150, 100)\n",
    "    else:\n",
    "        buzzer.play_tone(100, 400)\n",
    "    return None\n",
    "\n",
    "def get_alerts(prediction,sound,light):\n",
    "    if light:\n",
    "        leds_alert(prediction)\n",
    "    if sound:\n",
    "        buzz_alert(prediction)\n",
    "    sleep(1)\n",
    "    led_stick.clear()\n",
    "    return None"
   ]
  },
  {
   "attachments": {},
   "cell_type": "markdown",
   "id": "ffabbb73",
   "metadata": {},
   "source": [
    "A continuación definimos las funciones necesarias en las Comunicaciones MQTT."
   ]
  },
  {
   "cell_type": "code",
   "execution_count": null,
   "id": "c893fff2",
   "metadata": {},
   "outputs": [],
   "source": [
    "def pub_photo(photo, c, timestamp, host, port):\n",
    "    client = mqtt.Client()\n",
    "    client.connect(host, port, keepalive=180)\n",
    "    client.publish(\"photo\",json.dumps({c:photo.tolist(),'timestamp':timestamp}))\n",
    "    return None\n",
    "\n",
    "def sub_results(host, port):\n",
    "    def on_connect(client, userdata, flags, rc):\n",
    "        #print('Connected to RESULTS '+str(rc))\n",
    "        client.subscribe('results')\n",
    "        \n",
    "    def on_message(client, userdata, msg):\n",
    "        data = msg.payload.decode(\"utf8\")\n",
    "        with open('./data/pred_label.txt','w') as f:\n",
    "            f.write(data)\n",
    "        #print('RESULTS written')\n",
    "        client.disconnect()\n",
    "    client = mqtt.Client()\n",
    "    client.on_connect = on_connect\n",
    "    client.on_message = on_message\n",
    "\n",
    "    client.connect(host, port, keepalive=180)\n",
    "    client.loop_forever()\n",
    "    return None"
   ]
  },
  {
   "attachments": {},
   "cell_type": "markdown",
   "id": "a090d3c5",
   "metadata": {},
   "source": [
    "Para la monitorización de los resultados a tiempo real utilizamos la plataforma `thinspeak`, para la cual es necesarios disponer de un código de canal y una contraseña."
   ]
  },
  {
   "cell_type": "code",
   "execution_count": null,
   "id": "5044f004",
   "metadata": {},
   "outputs": [],
   "source": [
    "channel_id = 1978844\n",
    "write_key = \"64FJFZJ35WMXK34T\"\n",
    "channel = thingspeak.Channel(id=channel_id,api_key=write_key)"
   ]
  },
  {
   "attachments": {},
   "cell_type": "markdown",
   "id": "1c665b38",
   "metadata": {},
   "source": [
    "A continuación se encuentra todo el proceso correspondiente al dispositivo PYNQ, descrito en la sección 5.1 del TFG."
   ]
  },
  {
   "cell_type": "code",
   "execution_count": null,
   "id": "d1ecac5c",
   "metadata": {},
   "outputs": [],
   "source": [
    "def anomalias_industriales(host, port):\n",
    "    inicio_programa()\n",
    "    print(\"Starting Program\")\n",
    "    init_distance = int(usranger.get_distance())\n",
    "    while base.buttons.read() == 0:\n",
    "        while int(usranger.get_distance()) == init_distance:\n",
    "            sleep(1)\n",
    "            if base.buttons.read() != 0:\n",
    "                break\n",
    "        if base.buttons.read() != 0:\n",
    "            break \n",
    "        start = time()\n",
    "        print(\"Object detected\")\n",
    "        photo, timestamp = webcam()\n",
    "        print('photo taken')\n",
    "        for i in range(3):\n",
    "            pub_photo(photo[:,:,i],i,timestamp, host, port) \n",
    "        print('submitting photo')\n",
    "        sub_results(host, port)\n",
    "        f = open(\"./data/pred_label.txt\", \"r\")\n",
    "        anomaly = int(f.read())\n",
    "        print(\"Anomaly: \", bool(anomaly), 'Timestamp: ', timestamp)\n",
    "        get_alerts(anomaly, base.switches[0].read(), base.switches[1].read())\n",
    "        save_photo(anomaly, photo, timestamp)\n",
    "        totaltime = round(time()-start, 4)\n",
    "        channel.update({\"field1\":anomaly,\"field2\":totaltime})\n",
    "        print('TIME TAKEN: ', totaltime)\n",
    "        sleep(1)\n",
    "    return "
   ]
  },
  {
   "cell_type": "code",
   "execution_count": null,
   "id": "36017cd1",
   "metadata": {
    "scrolled": true
   },
   "outputs": [],
   "source": [
    "host = \"192.168.137.70\"\n",
    "port = 1883\n",
    "\n",
    "anomalias_industriales(host, port)"
   ]
  }
 ],
 "metadata": {
  "kernelspec": {
   "display_name": "anomalib_env2",
   "language": "python",
   "name": "python3"
  },
  "language_info": {
   "codemirror_mode": {
    "name": "ipython",
    "version": 3
   },
   "file_extension": ".py",
   "mimetype": "text/x-python",
   "name": "python",
   "nbconvert_exporter": "python",
   "pygments_lexer": "ipython3",
   "version": "3.8.15"
  },
  "vscode": {
   "interpreter": {
    "hash": "bd7860cbf4cc9d3a66f23144eb405d7f83a1b0ad1a8ac308435a92d84abe05fe"
   }
  }
 },
 "nbformat": 4,
 "nbformat_minor": 5
}
