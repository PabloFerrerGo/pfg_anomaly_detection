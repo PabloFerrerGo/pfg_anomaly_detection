{
  "cells": [
    {
      "cell_type": "markdown",
      "metadata": {
        "id": "aVw6WIjiT3L5"
      },
      "source": []
    },
    {
      "attachments": {},
      "cell_type": "markdown",
      "metadata": {},
      "source": [
        "Importamos las librerías"
      ]
    },
    {
      "cell_type": "code",
      "execution_count": null,
      "metadata": {},
      "outputs": [],
      "source": [
        "import timeit\n",
        "import os \n",
        "import numpy as np\n",
        "import pandas as pd\n",
        "import matplotlib.pyplot as plt\n",
        "import cv2\n",
        "import json\n",
        "\n",
        "from numpy import expand_dims\n",
        "from pytorch_lightning import Trainer\n",
        "from matplotlib import pyplot\n",
        "from PIL import Image\n",
        "from torch.utils.data import DataLoader\n",
        "\n",
        "from anomalib.models import get_model\n",
        "from anomalib.models.padim.lightning_model import Padim\n",
        "from anomalib.config import get_configurable_parameters\n",
        "from anomalib.utils.callbacks import LoadModelCallback, get_callbacks\n",
        "from anomalib.data.folder import Folder"
      ]
    },
    {
      "attachments": {},
      "cell_type": "markdown",
      "metadata": {},
      "source": [
        "En esta función configuramos los parámetros e hiperparámetros de nuestro pryecto: el modelo, los datos, callbacks, la información en el archivo .yaml, etc."
      ]
    },
    {
      "cell_type": "code",
      "execution_count": null,
      "metadata": {
        "id": "d6mYLAOfT3MA"
      },
      "outputs": [],
      "source": [
        "def anomaset(model):\n",
        "    CONFIG_PATH = f\"./anomalib/models/{model}/custom.yaml\"\n",
        "    # pass the config file to model, callbacks and datamodule\n",
        "    config = get_configurable_parameters(config_path=CONFIG_PATH)\n",
        "    \n",
        "    #config[\"dataset\"][\"name\"] = \"small_18\" \n",
        "    #config[\"model\"][\"backbone\"] = \"resnet18\"  #resnet18, wide_resnet50_2, cait_m48_448, deit_base_distilled_patch16_384\n",
        "    datamodule = Folder(\n",
        "        root=\"./data/naranjas_pynq_2_crop_augmentation\",\n",
        "        image_size=288,\n",
        "        #task='classification',\n",
        "        seed=42)\n",
        "\n",
        "    #datamodule = MVTec(\n",
        "     #   root=\"../data/mvtec_anomaly_detection\",\n",
        "     #   category='capsule',\n",
        "     #   image_size=256,\n",
        "     #   train_batch_size=32,\n",
        "     #   test_batch_size=32,\n",
        "     #   num_workers=8,\n",
        "     #   task =\"segmentation\",\n",
        "     #   seed = 42)\n",
        "\n",
        "    datamodule.setup()\n",
        "    #model = Padim(input_size=[288, 288], backbone=\"wide_resnet50_2\", layers=['layer1','layer2','layer3'],pre_trained=True)\n",
        "    model = get_model(config) # (288, 352)\n",
        "    callbacks = get_callbacks(config)\n",
        "\n",
        "    return datamodule, model, callbacks, config"
      ]
    },
    {
      "attachments": {},
      "cell_type": "markdown",
      "metadata": {},
      "source": [
        "Con la siguientes funciones entrenamos y evaluamos el modelo deseado."
      ]
    },
    {
      "cell_type": "code",
      "execution_count": null,
      "metadata": {
        "id": "jO_-QX5RT3MB"
      },
      "outputs": [],
      "source": [
        "def anomatrain(datamodule, model, callbacks, config):\n",
        "    # start training\n",
        "    trainer = Trainer(**config.trainer, callbacks=callbacks)\n",
        "    trainer.fit(model=model, datamodule=datamodule)\n",
        "    # load best model from checkpoint before evaluating\n",
        "    load_model_callback = LoadModelCallback(weights_path=trainer.checkpoint_callback.best_model_path)\n",
        "    trainer.callbacks.insert(0, load_model_callback)\n",
        "    return trainer"
      ]
    },
    {
      "cell_type": "code",
      "execution_count": null,
      "metadata": {
        "id": "O1rlm5N7T3MC"
      },
      "outputs": [],
      "source": [
        "def anomatest(trainer, model, datamodule):\n",
        "    trainer.test(model=model, datamodule=datamodule)\n",
        "    df = trainer.logged_metrics\n",
        "    return df"
      ]
    },
    {
      "cell_type": "code",
      "execution_count": null,
      "metadata": {
        "id": "ngFfKB-nT3MD"
      },
      "outputs": [],
      "source": [
        "def anomastudy(model):\n",
        "    datamodule, model, callbacks, config = anomaset(model)\n",
        "\n",
        "    trainer = anomatrain(datamodule, model, callbacks, config)\n",
        "    \n",
        "    metrics = anomatest(trainer, model, datamodule)\n",
        "\n",
        "    return metrics"
      ]
    },
    {
      "cell_type": "code",
      "execution_count": null,
      "metadata": {
        "id": "Kg09lio1T3ME"
      },
      "outputs": [],
      "source": [
        "def anomaresults(models):\n",
        "    colection={}\n",
        "    for model in models:\n",
        "        metrics = anomastudy(model)\n",
        "        colection[model] = metrics\n",
        "    return colection"
      ]
    },
    {
      "attachments": {},
      "cell_type": "markdown",
      "metadata": {},
      "source": [
        "A pesar de que el código esta preparado para trabajar con una lista de modelos, por limitaciones computacionales solo se ha podido trabajar con un modelo a la vez."
      ]
    },
    {
      "cell_type": "code",
      "execution_count": null,
      "metadata": {
        "colab": {
          "base_uri": "https://localhost:8080/"
        },
        "id": "QvlHs9TYT3MF",
        "outputId": "b10b552a-1303-4b30-ac8b-7d0798f8967a"
      },
      "outputs": [],
      "source": [
        "models = ['padim']#,'draem','dfm', 'cflow', 'stfpm', 'ganomaly', 'dfkde', 'patchcore']\n",
        "\n",
        "colection = anomaresults(models)\n",
        "colection['padim']"
      ]
    }
  ],
  "metadata": {
    "accelerator": "TPU",
    "colab": {
      "collapsed_sections": [],
      "provenance": []
    },
    "kernelspec": {
      "display_name": "anomalib_env2",
      "language": "python",
      "name": "python3"
    },
    "language_info": {
      "codemirror_mode": {
        "name": "ipython",
        "version": 3
      },
      "file_extension": ".py",
      "mimetype": "text/x-python",
      "name": "python",
      "nbconvert_exporter": "python",
      "pygments_lexer": "ipython3",
      "version": "3.8.15 | packaged by conda-forge | (default, Nov 22 2022, 08:42:03) [MSC v.1929 64 bit (AMD64)]"
    },
    "orig_nbformat": 4,
    "vscode": {
      "interpreter": {
        "hash": "bd7860cbf4cc9d3a66f23144eb405d7f83a1b0ad1a8ac308435a92d84abe05fe"
      }
    }
  },
  "nbformat": 4,
  "nbformat_minor": 0
}
