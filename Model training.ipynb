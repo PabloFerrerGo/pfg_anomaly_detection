{
  "cells": [
    {
      "cell_type": "markdown",
      "metadata": {
        "id": "aVw6WIjiT3L5"
      },
      "source": []
    },
    {
      "cell_type": "code",
      "execution_count": null,
      "metadata": {},
      "outputs": [],
      "source": [
        "import timeit\n",
        "import os \n",
        "import numpy as np\n",
        "import pandas as pd\n",
        "import matplotlib.pyplot as plt\n",
        "import cv2\n",
        "import json\n",
        "\n",
        "from numpy import expand_dims\n",
        "from pytorch_lightning import Trainer\n",
        "from matplotlib import pyplot\n",
        "from PIL import Image\n",
        "from torch.utils.data import DataLoader\n",
        "\n",
        "from keras.preprocessing.image import ImageDataGenerator  \n",
        "from keras.utils import load_img, img_to_array\n",
        "from anomalib.models import get_model\n",
        "from anomalib.models.padim.lightning_model import Padim\n",
        "from anomalib.config import get_configurable_parameters\n",
        "from anomalib.utils.callbacks import LoadModelCallback, get_callbacks\n",
        "from anomalib.data.folder import Folder"
      ]
    },
    {
      "cell_type": "code",
      "execution_count": null,
      "metadata": {},
      "outputs": [],
      "source": [
        "def img_resize(path, foldertype, newfolder):\n",
        "    imgs = os.listdir(path)\n",
        "    for img in imgs:\n",
        "        img_arr = np.array(Image.open(path+'/'+img)) # (288, 352, 3)  \n",
        "        img_new = cv2.resize(img_arr, (288,288))\n",
        "        im = Image.fromarray(img_new)\n",
        "        im.save(f'./data/{newfolder}/{foldertype}/{img}')\n",
        "\n",
        "def resize_img_pipe(oldfolder, newfolder):\n",
        "    os.mkdir(f'./data/{newfolder}')\n",
        "    os.mkdir(f'./data/{newfolder}/abnormal')\n",
        "    os.mkdir(f'./data/{newfolder}/normal')\n",
        "\n",
        "    img_resize(f'./data/{oldfolder}/normal/','normal',newfolder)\n",
        "    img_resize(f'./data/{oldfolder}/abnormal/','abnormal', newfolder)\n",
        "\n",
        "def image_augmenter(path, folder, n, newfolder):\n",
        "    img = img_to_array(load_img(path))\n",
        "    data = expand_dims(img, 0)\n",
        "    datagen = ImageDataGenerator(#rotation_range=40,\n",
        "                                    width_shift_range=0.2, \n",
        "                                    #featurewise_center=True,\n",
        "                                    #featurewise_std_normalization=True,\n",
        "                                    height_shift_range=0.2, \n",
        "                                    #shear_range=0.2, \n",
        "                                    #zoom_range=0.2,\n",
        "                                    #rotation_range=90,\n",
        "                                    brightness_range=[0.4,1.3],\n",
        "                                    horizontal_flip=True,\n",
        "                                    #zca_whitening=True,\n",
        "                                    vertical_flip=True,\n",
        "                                    fill_mode='nearest')\n",
        "    count = 0                                \n",
        "    for batch in datagen.flow(data, batch_size=1, save_prefix='orange', save_to_dir=f'./data/{newfolder}/{folder}',save_format='jpg'):\n",
        "        count += 1\n",
        "        if count == n:\n",
        "            break\n",
        "     \n",
        "def gen_img_pipe(oldfolder, newfolder, n, generate):\n",
        "    resize_img_pipe(oldfolder, newfolder)\n",
        "    if generate:\n",
        "        normal = os.listdir(f'./data/{newfolder}/normal')\n",
        "        abnormal =  os.listdir(f'./data/{newfolder}/abnormal')\n",
        "        for end in normal:\n",
        "            image_augmenter(f'./data/{newfolder}/normal/{end}','normal', n, newfolder)\n",
        "        for end in abnormal:\n",
        "            image_augmenter(f'./data/{newfolder}/abnormal/{end}', 'abnormal', n, newfolder)"
      ]
    },
    {
      "cell_type": "code",
      "execution_count": null,
      "metadata": {},
      "outputs": [],
      "source": [
        "gen_img_pipe('naranjas_pynq_0','naranjas_pynq_2_crop_augmentation', 10, True)"
      ]
    },
    {
      "cell_type": "code",
      "execution_count": null,
      "metadata": {
        "id": "d6mYLAOfT3MA"
      },
      "outputs": [],
      "source": [
        "def anomaset(model):\n",
        "    CONFIG_PATH = f\"./anomalib/models/{model}/custom.yaml\"\n",
        "    # pass the config file to model, callbacks and datamodule\n",
        "    config = get_configurable_parameters(config_path=CONFIG_PATH)\n",
        "    \n",
        "    #config[\"dataset\"][\"name\"] = \"small_18\" \n",
        "    #config[\"model\"][\"backbone\"] = \"resnet18\"  #resnet18, wide_resnet50_2, cait_m48_448, deit_base_distilled_patch16_384\n",
        "    datamodule = Folder(\n",
        "        root=\"./data/naranjas_pynq_2_crop_augmentation\",\n",
        "        image_size=288,\n",
        "        #task='classification',\n",
        "        seed=42)\n",
        "\n",
        "    datamodule.setup()\n",
        "    #model = Padim(input_size=[288, 288], backbone=\"wide_resnet50_2\", layers=['layer1','layer2','layer3'],pre_trained=True)\n",
        "    model = get_model(config) # (288, 352)\n",
        "    callbacks = get_callbacks(config)\n",
        "\n",
        "    return datamodule, model, callbacks, config"
      ]
    },
    {
      "cell_type": "code",
      "execution_count": null,
      "metadata": {
        "id": "jO_-QX5RT3MB"
      },
      "outputs": [],
      "source": [
        "def anomatrain(datamodule, model, callbacks, config):\n",
        "    # start training\n",
        "    trainer = Trainer(**config.trainer, callbacks=callbacks)\n",
        "    trainer.fit(model=model, datamodule=datamodule)\n",
        "    # load best model from checkpoint before evaluating\n",
        "    load_model_callback = LoadModelCallback(weights_path=trainer.checkpoint_callback.best_model_path)\n",
        "    trainer.callbacks.insert(0, load_model_callback)\n",
        "    return trainer"
      ]
    },
    {
      "cell_type": "code",
      "execution_count": null,
      "metadata": {
        "id": "O1rlm5N7T3MC"
      },
      "outputs": [],
      "source": [
        "def anomatest(trainer, model, datamodule):\n",
        "    trainer.test(model=model, datamodule=datamodule)\n",
        "    df = trainer.logged_metrics\n",
        "    return df"
      ]
    },
    {
      "cell_type": "code",
      "execution_count": null,
      "metadata": {
        "id": "ngFfKB-nT3MD"
      },
      "outputs": [],
      "source": [
        "def anomastudy(model):\n",
        "    datamodule, model, callbacks, config = anomaset(model)\n",
        "\n",
        "    trainer = anomatrain(datamodule, model, callbacks, config)\n",
        "    \n",
        "    metrics = anomatest(trainer, model, datamodule)\n",
        "\n",
        "    return metrics"
      ]
    },
    {
      "cell_type": "code",
      "execution_count": null,
      "metadata": {
        "id": "Kg09lio1T3ME"
      },
      "outputs": [],
      "source": [
        "def anomaresults(models):\n",
        "    for model in models:\n",
        "        metrics = anomastudy(model)\n",
        "    \n",
        "    return data_pix, data_img"
      ]
    },
    {
      "cell_type": "code",
      "execution_count": null,
      "metadata": {
        "colab": {
          "base_uri": "https://localhost:8080/"
        },
        "id": "QvlHs9TYT3MF",
        "outputId": "b10b552a-1303-4b30-ac8b-7d0798f8967a"
      },
      "outputs": [],
      "source": [
        "models = ['padim']#,'draem','dfm', 'cflow', 'stfpm', 'ganomaly', 'dfkde', 'patchcore']\n",
        "\n",
        "data_f1, data_img = anomaresults(models)"
      ]
    }
  ],
  "metadata": {
    "accelerator": "TPU",
    "colab": {
      "collapsed_sections": [],
      "provenance": []
    },
    "kernelspec": {
      "display_name": "Python 3.8.13 ('anomalib_env')",
      "language": "python",
      "name": "python3"
    },
    "language_info": {
      "codemirror_mode": {
        "name": "ipython",
        "version": 3
      },
      "file_extension": ".py",
      "mimetype": "text/x-python",
      "name": "python",
      "nbconvert_exporter": "python",
      "pygments_lexer": "ipython3",
      "version": "3.8.15 | packaged by conda-forge | (default, Nov 22 2022, 08:42:03) [MSC v.1929 64 bit (AMD64)]"
    },
    "orig_nbformat": 4,
    "vscode": {
      "interpreter": {
        "hash": "b995a6c14cfff16ab868bd1edfb3534d81d6a8caffd4b9b8fc69acf7bae847c5"
      }
    }
  },
  "nbformat": 4,
  "nbformat_minor": 0
}
